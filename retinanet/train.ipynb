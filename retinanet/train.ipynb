{
 "cells": [
  {
   "cell_type": "markdown",
   "metadata": {},
   "source": [
    "# Retinanet"
   ]
  },
  {
   "cell_type": "markdown",
   "metadata": {
    "execution": {
     "iopub.execute_input": "2022-06-06T11:12:28.728923Z",
     "iopub.status.busy": "2022-06-06T11:12:28.728503Z",
     "iopub.status.idle": "2022-06-06T11:12:28.748472Z",
     "shell.execute_reply": "2022-06-06T11:12:28.747768Z",
     "shell.execute_reply.started": "2022-06-06T11:12:28.728828Z"
    }
   },
   "source": [
    "## Download the Repo\n",
    "This is the forked version of [the repo](https://github.com/yhenon/pytorch-retinanet) we referenced. We commited some changes to the original code base and added some utilities."
   ]
  },
  {
   "cell_type": "code",
   "execution_count": null,
   "metadata": {
    "execution": {
     "iopub.execute_input": "2022-06-09T14:56:49.348112Z",
     "iopub.status.busy": "2022-06-09T14:56:49.347393Z",
     "iopub.status.idle": "2022-06-09T14:56:51.335429Z",
     "shell.execute_reply": "2022-06-09T14:56:51.333972Z",
     "shell.execute_reply.started": "2022-06-09T14:56:49.347983Z"
    }
   },
   "outputs": [],
   "source": [
    "!git clone -b practice https://github.com/Alan-Kuan/pytorch-retinanet"
   ]
  },
  {
   "cell_type": "code",
   "execution_count": null,
   "metadata": {
    "execution": {
     "iopub.execute_input": "2022-06-09T14:56:55.511648Z",
     "iopub.status.busy": "2022-06-09T14:56:55.511259Z",
     "iopub.status.idle": "2022-06-09T14:56:55.519372Z",
     "shell.execute_reply": "2022-06-09T14:56:55.518667Z",
     "shell.execute_reply.started": "2022-06-09T14:56:55.511614Z"
    }
   },
   "outputs": [],
   "source": [
    "%cd pytorch-retinanet"
   ]
  },
  {
   "cell_type": "markdown",
   "metadata": {},
   "source": [
    "## Train Test Split\n",
    "$\\text{training set} : \\text{validation set} : \\text{testing set} = 90:7:3$"
   ]
  },
  {
   "cell_type": "code",
   "execution_count": null,
   "metadata": {},
   "outputs": [],
   "source": [
    "annots = os.listdir('/kaggle/input/face-mask-detection/annotations')\n",
    "from sklearn.model_selection import train_test_split\n",
    "train, test = train_test_split(annots, test_size=0.1, random_state=22)\n",
    "test, val = train_test_split(test, test_size=0.7, random_state=22)"
   ]
  },
  {
   "cell_type": "markdown",
   "metadata": {},
   "source": [
    "## Process Data Annotation\n",
    "process the data annotation to the repo's format"
   ]
  },
  {
   "cell_type": "code",
   "execution_count": null,
   "metadata": {
    "_cell_guid": "b1076dfc-b9ad-4769-8c92-a6c4dae69d19",
    "_uuid": "8f2839f25d086af736a60e9eeb907d3b93b6e0e5",
    "execution": {
     "iopub.execute_input": "2022-06-09T14:57:28.415098Z",
     "iopub.status.busy": "2022-06-09T14:57:28.414626Z",
     "iopub.status.idle": "2022-06-09T14:58:28.070594Z",
     "shell.execute_reply": "2022-06-09T14:58:28.069661Z",
     "shell.execute_reply.started": "2022-06-09T14:57:28.415063Z"
    }
   },
   "outputs": [],
   "source": [
    "!pip install xmltodict\n",
    "!pip install pycocotools"
   ]
  },
  {
   "cell_type": "code",
   "execution_count": null,
   "metadata": {
    "execution": {
     "iopub.execute_input": "2022-06-09T14:58:43.234718Z",
     "iopub.status.busy": "2022-06-09T14:58:43.234204Z",
     "iopub.status.idle": "2022-06-09T14:58:43.249992Z",
     "shell.execute_reply": "2022-06-09T14:58:43.248593Z",
     "shell.execute_reply.started": "2022-06-09T14:58:43.234667Z"
    }
   },
   "outputs": [],
   "source": [
    "import os\n",
    "import random\n",
    "import math\n",
    "import xmltodict\n",
    "import xml.etree.ElementTree as ET"
   ]
  },
  {
   "cell_type": "code",
   "execution_count": null,
   "metadata": {},
   "outputs": [],
   "source": [
    "annot_path = '/kaggle/input/face-mask-detection/annotations'\n",
    "img_path = '/kaggle/input/face-mask-detection/images'\n",
    "\n",
    "for data_type, paths in zip(['train', 'val', 'test'], [train, val, test]):\n",
    "    with open(f'{ data_type }_annots.csv', 'w') as f:\n",
    "        for annot_file in paths:\n",
    "            path = f'{ annot_path }/{ annot_file }'\n",
    "            tree = ET.parse(path)\n",
    "            xml_data = tree.getroot()\n",
    "            xmlstr = ET.tostring(xml_data, encoding='utf-8', method='xml')\n",
    "            annot = dict(xmltodict.parse(xmlstr))\n",
    "\n",
    "            img_file = annot['annotation']['filename']\n",
    "            objs = annot['annotation']['object']\n",
    "            if not isinstance(objs, list):\n",
    "                objs = [objs]\n",
    "            for obj in objs:\n",
    "                xmin = obj['bndbox']['xmin']\n",
    "                ymin = obj['bndbox']['ymin']\n",
    "                xmax = obj['bndbox']['xmax']\n",
    "                ymax = obj['bndbox']['ymax']\n",
    "                name = obj['name']\n",
    "                f.write(f'{ img_path }/{ img_file },{ xmin },{ ymin },{ xmax },{ ymax },{ name }\\n')"
   ]
  },
  {
   "cell_type": "code",
   "execution_count": null,
   "metadata": {},
   "outputs": [],
   "source": [
    "with open('./class_list.csv', 'w') as f:\n",
    "    f.write('without_mask,0\\n')\n",
    "    f.write('with_mask,1\\n')\n",
    "    f.write('mask_weared_incorrect,2\\n')"
   ]
  },
  {
   "cell_type": "markdown",
   "metadata": {},
   "source": [
    "## Training"
   ]
  },
  {
   "cell_type": "code",
   "execution_count": null,
   "metadata": {},
   "outputs": [],
   "source": [
    "!mkdir precision-recall"
   ]
  },
  {
   "cell_type": "code",
   "execution_count": null,
   "metadata": {},
   "outputs": [],
   "source": [
    "!python train.py \\\n",
    "    --dataset csv \\\n",
    "    --csv_train ./train_annots.csv \\\n",
    "    --csv_classes ./class_list.csv \\\n",
    "    --csv_val ./val_annots.csv \\\n",
    "    --graph_save_path ./precision-recall \\\n",
    "    --epoch 200 \\\n",
    "    --model /kaggle/input/retinanetoutput2/pytorch-retinanet/model_final.pt"
   ]
  },
  {
   "cell_type": "markdown",
   "metadata": {},
   "source": [
    "## Video Input\n",
    "Feed video input to Retinanet; however, it failed."
   ]
  },
  {
   "cell_type": "code",
   "execution_count": null,
   "metadata": {},
   "outputs": [],
   "source": [
    "# !python dynamic_prediction.py \\\n",
    "#     --model \"/kaggle/input/retinanetoutput2/pytorch-retinanet/model_final.pt\" \\\n",
    "#     --video \"/kaggle/input/facemaskrecording1/2022-06-08 19-54-17.mkv\""
   ]
  },
  {
   "cell_type": "markdown",
   "metadata": {},
   "source": [
    "## Speed Test\n",
    "calculate the average inference time"
   ]
  },
  {
   "cell_type": "code",
   "execution_count": null,
   "metadata": {},
   "outputs": [],
   "source": [
    "!python speed_test.py \\\n",
    "    --model \"/kaggle/input/retinanetoutput2/pytorch-retinanet/model_final.pt\" \\\n",
    "    --dataset csv \\\n",
    "    --csv_classes ./class_list.csv \\\n",
    "    --csv_val ./test_annots.csv"
   ]
  }
 ],
 "metadata": {
  "kernelspec": {
   "display_name": "Python 3 (ipykernel)",
   "language": "python",
   "name": "python3"
  },
  "language_info": {
   "codemirror_mode": {
    "name": "ipython",
    "version": 3
   },
   "file_extension": ".py",
   "mimetype": "text/x-python",
   "name": "python",
   "nbconvert_exporter": "python",
   "pygments_lexer": "ipython3",
   "version": "3.10.5"
  }
 },
 "nbformat": 4,
 "nbformat_minor": 4
}
